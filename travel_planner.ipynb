{
 "cells": [
  {
   "cell_type": "code",
   "execution_count": 1,
   "metadata": {},
   "outputs": [],
   "source": [
    "from bs4 import BeautifulSoup as bs\n",
    "import requests\n",
    "import pandas as pd\n",
    "import sys\n",
    "import re\n",
    "import pygsheets\n",
    "import os.path "
   ]
  },
  {
   "cell_type": "code",
   "execution_count": 19,
   "metadata": {},
   "outputs": [
    {
     "name": "stdout",
     "output_type": "stream",
     "text": [
      "City: Mexico City\n"
     ]
    }
   ],
   "source": [
    "city_input = input(\"City: \")"
   ]
  },
  {
   "cell_type": "code",
   "execution_count": 20,
   "metadata": {},
   "outputs": [],
   "source": [
    "city = city_input.replace(' ', '-').lower()"
   ]
  },
  {
   "cell_type": "code",
   "execution_count": 4,
   "metadata": {},
   "outputs": [],
   "source": [
    "# URLs of page to be scraped\n",
    "conde_nast_restaurants_url = 'https://www.cntraveler.com/gallery/best-restaurants-in-{0}'.format(city)\n",
    "conde_nast_activities_url = 'https://www.cntraveler.com/gallery/best-things-to-do-in-{0}'.format(city)"
   ]
  },
  {
   "cell_type": "markdown",
   "metadata": {},
   "source": [
    "### Conde Nast Restaurants Retrieval"
   ]
  },
  {
   "cell_type": "code",
   "execution_count": 5,
   "metadata": {},
   "outputs": [],
   "source": [
    "response = requests.get(conde_nast_restaurants_url)"
   ]
  },
  {
   "cell_type": "code",
   "execution_count": 6,
   "metadata": {},
   "outputs": [],
   "source": [
    "soup = bs(response.text,'html.parser')"
   ]
  },
  {
   "cell_type": "code",
   "execution_count": 7,
   "metadata": {},
   "outputs": [],
   "source": [
    "results = soup.find_all('div', class_=\"image-content-container\")\n",
    "\n",
    "if len(results) == 0:\n",
    "    print(\"No data found for \" + city_input )\n",
    "    sys.exit()\n",
    "else: pass"
   ]
  },
  {
   "cell_type": "code",
   "execution_count": 8,
   "metadata": {},
   "outputs": [],
   "source": [
    "restaurant_list = []\n",
    "price_list = []\n",
    "blurb_list = []\n",
    "\n",
    "for result in results:\n",
    "    try:\n",
    "        restaurant = result.find('h2', class_='hed').text\n",
    "        price = result.find('p', class_='price').text\n",
    "        blurb = result.find(class_='dek').text\n",
    "        if (restaurant and price and blurb):\n",
    "            restaurant_list.append(restaurant)\n",
    "            price_list.append(price)\n",
    "            blurb_list.append(blurb)\n",
    "    except AttributeError as e:\n",
    "        print(e)"
   ]
  },
  {
   "cell_type": "code",
   "execution_count": 9,
   "metadata": {},
   "outputs": [],
   "source": [
    "restaurants = pd.DataFrame(list(zip(restaurant_list, price_list, blurb_list)), \n",
    "               columns =['Restaurant', 'Price', 'Description'])"
   ]
  },
  {
   "cell_type": "markdown",
   "metadata": {},
   "source": [
    "### Conde Nast Activity Retrieval"
   ]
  },
  {
   "cell_type": "code",
   "execution_count": 10,
   "metadata": {},
   "outputs": [],
   "source": [
    "response2 = requests.get(conde_nast_activities_url)\n",
    "soup2 = bs(response2.text,'html.parser' )"
   ]
  },
  {
   "cell_type": "code",
   "execution_count": 11,
   "metadata": {},
   "outputs": [],
   "source": [
    "results = soup2.find_all('div', class_=\"image-content-container\")\n",
    "\n",
    "if len(results) == 0:\n",
    "    print(\"No data found for \"+ city_input)\n",
    "    sys.ext()\n",
    "else: pass"
   ]
  },
  {
   "cell_type": "code",
   "execution_count": 12,
   "metadata": {},
   "outputs": [],
   "source": [
    "activity_list = []\n",
    "blurb_list = []\n",
    "\n",
    "for result in results:\n",
    "    try:\n",
    "        activity = result.find('h2', class_='hed').text\n",
    "        blurb = result.find(class_='dek').text\n",
    "        if (activity and blurb):\n",
    "            activity_list.append(activity)\n",
    "            blurb_list.append(blurb)\n",
    "    except AttributeError as e:\n",
    "        print(e)"
   ]
  },
  {
   "cell_type": "code",
   "execution_count": 13,
   "metadata": {},
   "outputs": [],
   "source": [
    "activities = pd.DataFrame(list(zip(activity_list, blurb_list)), \n",
    "               columns =['Activity', 'Description'])"
   ]
  },
  {
   "cell_type": "markdown",
   "metadata": {},
   "source": [
    "### Export Dataframes to Google Sheet"
   ]
  },
  {
   "cell_type": "code",
   "execution_count": 47,
   "metadata": {},
   "outputs": [],
   "source": [
    "def df_to_gsheet(df, city_input, df_name):\n",
    "    credentials = os.path.expanduser('~/New Documents/Misc/Credentials/cn-travel-planner-0746c5316afb.json') \n",
    "    gc = pygsheets.authorize(service_file=credentials)\n",
    "    \n",
    "    sh = gc.open('Trips')\n",
    "    wks = sh.add_worksheet(city_input+'-'+df_name,rows=50,cols=6)\n",
    "    wks.set_dataframe(df,(1,1))\n",
    "    wks.frozen_rows = 1\n",
    "    wks.cell('A1').set_text_format('bold', True)\n",
    "    wks.cell('B1').set_text_format('bold', True)\n",
    "    wks.cell('C1').set_text_format('bold', True)"
   ]
  },
  {
   "cell_type": "code",
   "execution_count": 48,
   "metadata": {
    "scrolled": true
   },
   "outputs": [
    {
     "name": "stdout",
     "output_type": "stream",
     "text": [
      "Updated spreadsheet here: https://docs.google.com/spreadsheets/d/1sKBiI8cgU-udIGJpLqoPivKVqCIsxN3Q6WW2H2N5KFM\n",
      "Updated spreadsheet here: https://docs.google.com/spreadsheets/d/1sKBiI8cgU-udIGJpLqoPivKVqCIsxN3Q6WW2H2N5KFM\n"
     ]
    }
   ],
   "source": [
    "df_to_gsheet(restaurants, city_input, \"Restaurants\")\n",
    "df_to_gsheet(activities, city_input, \"Activities\")"
   ]
  }
 ],
 "metadata": {
  "kernelspec": {
   "display_name": "Python 3",
   "language": "python",
   "name": "python3"
  },
  "language_info": {
   "codemirror_mode": {
    "name": "ipython",
    "version": 3
   },
   "file_extension": ".py",
   "mimetype": "text/x-python",
   "name": "python",
   "nbconvert_exporter": "python",
   "pygments_lexer": "ipython3",
   "version": "3.7.3"
  }
 },
 "nbformat": 4,
 "nbformat_minor": 4
}
